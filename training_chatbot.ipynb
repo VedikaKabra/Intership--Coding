{
 "cells": [
  {
   "cell_type": "markdown",
   "metadata": {},
   "source": [
    "# CHATBOT"
   ]
  },
  {
   "cell_type": "code",
   "execution_count": 6,
   "metadata": {},
   "outputs": [
    {
     "name": "stdout",
     "output_type": "stream",
     "text": [
      "ai.yml Training: [####################] 100%\n",
      "botprofile.yml Training: [####################] 100%\n",
      "computers.yml Training: [####################] 100%\n",
      "conversations.yml Training: [####################] 100%\n",
      "emotion.yml Training: [####################] 100%\n",
      "food.yml Training: [####################] 100%\n",
      "gossip.yml Training: [####################] 100%\n",
      "greetings.yml Training: [####################] 100%\n",
      "health.yml Training: [####################] 100%\n",
      "history.yml Training: [####################] 100%\n",
      "humor.yml Training: [####################] 100%\n",
      "literature.yml Training: [####################] 100%\n",
      "money.yml Training: [####################] 100%\n",
      "movies.yml Training: [####################] 100%\n",
      "politics.yml Training: [####################] 100%\n",
      "psychology.yml Training: [####################] 100%\n",
      "science.yml Training: [####################] 100%\n",
      "sports.yml Training: [####################] 100%\n",
      "trivia.yml Training: [####################] 100%\n"
     ]
    }
   ],
   "source": [
    "#importing the chatterbot library\n",
    "import chatterbot\n",
    "from chatterbot import ChatBot\n",
    "from chatterbot.trainers import ChatterBotCorpusTrainer\n",
    "#Define name for the chatbot\n",
    "#define the trainer\n",
    "bot=ChatBot('Chottu')\n",
    "bot.set_trainer(ChatterBotCorpusTrainer)\n",
    "#starts training the chatbot on english data\n",
    "bot.train('chatterbot.corpus.english')\n",
    "\n"
   ]
  },
  {
   "cell_type": "markdown",
   "metadata": {},
   "source": [
    "# CHATBOT EXCECUTION"
   ]
  },
  {
   "cell_type": "code",
   "execution_count": 5,
   "metadata": {},
   "outputs": [
    {
     "name": "stdout",
     "output_type": "stream",
     "text": [
      "You: hiii\n",
      "Chottu: How are you doing?\n",
      "You: i'm good.what about you?\n",
      "Chottu: I'm also good.\n",
      "You: who are you ??\n",
      "Chottu: I am just an artificial intelligence.\n",
      "You: who made you?\n",
      "Chottu: I am just an artificial intelligence.\n",
      "You: okayy!! bye\n",
      "Chottu: Not particularly.\n",
      "You: bye\n",
      "Chottu: It was nice talking to you. Bye\n"
     ]
    }
   ],
   "source": [
    "while(True):\n",
    "    message=input('You: ')\n",
    "    if(message=='Bye' or message=='bye'):\n",
    "        reply='It was nice talking to you. Bye'\n",
    "        #print('CHOTTU: ',reply)\n",
    "        print('{}: {}'.format(bot.name,reply))\n",
    "        break\n",
    "    else:\n",
    "        reply=bot.get_response(message)\n",
    "        print('{}: {}'.format(bot.name,reply))\n"
   ]
  },
  {
   "cell_type": "code",
   "execution_count": null,
   "metadata": {},
   "outputs": [],
   "source": []
  }
 ],
 "metadata": {
  "kernelspec": {
   "display_name": "Python 3",
   "language": "python",
   "name": "python3"
  },
  "language_info": {
   "codemirror_mode": {
    "name": "ipython",
    "version": 3
   },
   "file_extension": ".py",
   "mimetype": "text/x-python",
   "name": "python",
   "nbconvert_exporter": "python",
   "pygments_lexer": "ipython3",
   "version": "3.7.7"
  }
 },
 "nbformat": 4,
 "nbformat_minor": 4
}
